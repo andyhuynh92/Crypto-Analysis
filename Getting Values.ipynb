{
 "cells": [
  {
   "cell_type": "markdown",
   "id": "63dac46c-5f4d-4dea-8af2-a0ca742e1a86",
   "metadata": {},
   "source": [
    "I'm grabbing the data of several cryptocurrencies off of yfinance. "
   ]
  },
  {
   "cell_type": "code",
   "execution_count": 5,
   "id": "7fae7a67-0cc7-4d16-ac28-f22a698486da",
   "metadata": {},
   "outputs": [],
   "source": [
    "import numpy as np\n",
    "import pandas as pd\n",
    "import yfinance as yf"
   ]
  },
  {
   "cell_type": "markdown",
   "id": "5173fffc-43bd-47d2-89c1-68c102b9c072",
   "metadata": {},
   "source": [
    "Will download `BTC, ETH, ADA, BNB, LINK, DOGE`"
   ]
  },
  {
   "cell_type": "code",
   "execution_count": 6,
   "id": "bcca28f3-a891-4682-b8c4-b714200f85fd",
   "metadata": {},
   "outputs": [
    {
     "name": "stdout",
     "output_type": "stream",
     "text": [
      "[*********************100%***********************]  1 of 1 completed\n",
      "[*********************100%***********************]  1 of 1 completed\n",
      "[*********************100%***********************]  1 of 1 completed\n",
      "[*********************100%***********************]  1 of 1 completed\n",
      "[*********************100%***********************]  1 of 1 completed\n",
      "[*********************100%***********************]  1 of 1 completed\n",
      "[*********************100%***********************]  1 of 1 completed\n"
     ]
    }
   ],
   "source": [
    "btc = yf.download(\"BTC-USD\")\n",
    "eth = yf.download(\"ETH-USD\")\n",
    "ada = yf.download(\"ADA-USD\")\n",
    "bnb = yf.download(\"BNB-USD\")\n",
    "link = yf.download(\"LINK-USD\")\n",
    "doge = yf.download(\"doge-USD\")\n",
    "sp500 = yf.download(\"^GSPC\")"
   ]
  },
  {
   "cell_type": "code",
   "execution_count": 3,
   "id": "c90956e7-c30f-49e4-8edd-76b5da425ac6",
   "metadata": {},
   "outputs": [
    {
     "data": {
      "text/html": [
       "<div><div id=d2ad69a1-3196-4e4c-85c8-70955c42cd7d style=\"display:none; background-color:#9D6CFF; color:white; width:200px; height:30px; padding-left:5px; border-radius:4px; flex-direction:row; justify-content:space-around; align-items:center;\" onmouseover=\"this.style.backgroundColor='#BA9BF8'\" onmouseout=\"this.style.backgroundColor='#9D6CFF'\" onclick=\"window.commands?.execute('create-mitosheet-from-dataframe-output');\">See Full Dataframe in Mito</div> <script> if (window.commands?.hasCommand('create-mitosheet-from-dataframe-output')) document.getElementById('d2ad69a1-3196-4e4c-85c8-70955c42cd7d').style.display = 'flex' </script> <table border=\"1\" class=\"dataframe\">\n",
       "  <thead>\n",
       "    <tr style=\"text-align: right;\">\n",
       "      <th></th>\n",
       "      <th>Open</th>\n",
       "      <th>High</th>\n",
       "      <th>Low</th>\n",
       "      <th>Close</th>\n",
       "      <th>Adj Close</th>\n",
       "      <th>Volume</th>\n",
       "    </tr>\n",
       "    <tr>\n",
       "      <th>Date</th>\n",
       "      <th></th>\n",
       "      <th></th>\n",
       "      <th></th>\n",
       "      <th></th>\n",
       "      <th></th>\n",
       "      <th></th>\n",
       "    </tr>\n",
       "  </thead>\n",
       "  <tbody>\n",
       "    <tr>\n",
       "      <th>2014-09-17</th>\n",
       "      <td>465.864014</td>\n",
       "      <td>468.174011</td>\n",
       "      <td>452.421997</td>\n",
       "      <td>457.334015</td>\n",
       "      <td>457.334015</td>\n",
       "      <td>21056800</td>\n",
       "    </tr>\n",
       "    <tr>\n",
       "      <th>2014-09-18</th>\n",
       "      <td>456.859985</td>\n",
       "      <td>456.859985</td>\n",
       "      <td>413.104004</td>\n",
       "      <td>424.440002</td>\n",
       "      <td>424.440002</td>\n",
       "      <td>34483200</td>\n",
       "    </tr>\n",
       "    <tr>\n",
       "      <th>2014-09-19</th>\n",
       "      <td>424.102997</td>\n",
       "      <td>427.834991</td>\n",
       "      <td>384.532013</td>\n",
       "      <td>394.795990</td>\n",
       "      <td>394.795990</td>\n",
       "      <td>37919700</td>\n",
       "    </tr>\n",
       "    <tr>\n",
       "      <th>2014-09-20</th>\n",
       "      <td>394.673004</td>\n",
       "      <td>423.295990</td>\n",
       "      <td>389.882996</td>\n",
       "      <td>408.903992</td>\n",
       "      <td>408.903992</td>\n",
       "      <td>36863600</td>\n",
       "    </tr>\n",
       "    <tr>\n",
       "      <th>2014-09-21</th>\n",
       "      <td>408.084991</td>\n",
       "      <td>412.425995</td>\n",
       "      <td>393.181000</td>\n",
       "      <td>398.821014</td>\n",
       "      <td>398.821014</td>\n",
       "      <td>26580100</td>\n",
       "    </tr>\n",
       "    <tr>\n",
       "      <th>...</th>\n",
       "      <td>...</td>\n",
       "      <td>...</td>\n",
       "      <td>...</td>\n",
       "      <td>...</td>\n",
       "      <td>...</td>\n",
       "      <td>...</td>\n",
       "    </tr>\n",
       "    <tr>\n",
       "      <th>2022-06-23</th>\n",
       "      <td>19986.607422</td>\n",
       "      <td>21135.761719</td>\n",
       "      <td>19950.117188</td>\n",
       "      <td>21085.876953</td>\n",
       "      <td>21085.876953</td>\n",
       "      <td>26188097173</td>\n",
       "    </tr>\n",
       "    <tr>\n",
       "      <th>2022-06-24</th>\n",
       "      <td>21084.648438</td>\n",
       "      <td>21472.917969</td>\n",
       "      <td>20777.511719</td>\n",
       "      <td>21231.656250</td>\n",
       "      <td>21231.656250</td>\n",
       "      <td>24957784918</td>\n",
       "    </tr>\n",
       "    <tr>\n",
       "      <th>2022-06-25</th>\n",
       "      <td>21233.609375</td>\n",
       "      <td>21520.914062</td>\n",
       "      <td>20964.585938</td>\n",
       "      <td>21502.337891</td>\n",
       "      <td>21502.337891</td>\n",
       "      <td>18372538715</td>\n",
       "    </tr>\n",
       "    <tr>\n",
       "      <th>2022-06-26</th>\n",
       "      <td>21496.494141</td>\n",
       "      <td>21783.724609</td>\n",
       "      <td>21016.269531</td>\n",
       "      <td>21027.294922</td>\n",
       "      <td>21027.294922</td>\n",
       "      <td>18027170497</td>\n",
       "    </tr>\n",
       "    <tr>\n",
       "      <th>2022-06-27</th>\n",
       "      <td>21024.480469</td>\n",
       "      <td>21466.804688</td>\n",
       "      <td>20686.123047</td>\n",
       "      <td>20729.789062</td>\n",
       "      <td>20729.789062</td>\n",
       "      <td>20158945280</td>\n",
       "    </tr>\n",
       "  </tbody>\n",
       "</table></div>"
      ],
      "text/plain": [
       "                    Open          High           Low         Close  \\\n",
       "Date                                                                 \n",
       "2014-09-17    465.864014    468.174011    452.421997    457.334015   \n",
       "2014-09-18    456.859985    456.859985    413.104004    424.440002   \n",
       "2014-09-19    424.102997    427.834991    384.532013    394.795990   \n",
       "2014-09-20    394.673004    423.295990    389.882996    408.903992   \n",
       "2014-09-21    408.084991    412.425995    393.181000    398.821014   \n",
       "...                  ...           ...           ...           ...   \n",
       "2022-06-23  19986.607422  21135.761719  19950.117188  21085.876953   \n",
       "2022-06-24  21084.648438  21472.917969  20777.511719  21231.656250   \n",
       "2022-06-25  21233.609375  21520.914062  20964.585938  21502.337891   \n",
       "2022-06-26  21496.494141  21783.724609  21016.269531  21027.294922   \n",
       "2022-06-27  21024.480469  21466.804688  20686.123047  20729.789062   \n",
       "\n",
       "               Adj Close       Volume  \n",
       "Date                                   \n",
       "2014-09-17    457.334015     21056800  \n",
       "2014-09-18    424.440002     34483200  \n",
       "2014-09-19    394.795990     37919700  \n",
       "2014-09-20    408.903992     36863600  \n",
       "2014-09-21    398.821014     26580100  \n",
       "...                  ...          ...  \n",
       "2022-06-23  21085.876953  26188097173  \n",
       "2022-06-24  21231.656250  24957784918  \n",
       "2022-06-25  21502.337891  18372538715  \n",
       "2022-06-26  21027.294922  18027170497  \n",
       "2022-06-27  20729.789062  20158945280  \n",
       "\n",
       "[2841 rows x 6 columns]"
      ]
     },
     "execution_count": 3,
     "metadata": {},
     "output_type": "execute_result"
    }
   ],
   "source": [
    "btc"
   ]
  },
  {
   "cell_type": "code",
   "execution_count": 4,
   "id": "53fa7cd5-5548-482f-a863-233cc247d983",
   "metadata": {},
   "outputs": [],
   "source": [
    "btc.to_csv('data/btc.csv')\n",
    "eth.to_csv('data/eth.csv')\n",
    "ada.to_csv('data/ada.csv')\n",
    "bnb.to_csv('data/bnb.csv')\n",
    "link.to_csv('data/link.csv')\n",
    "doge.to_csv('data/doge.csv')\n",
    "sp500.to_csv('data/sp500.csv')"
   ]
  },
  {
   "cell_type": "markdown",
   "id": "4f01cccf-e277-4975-9c7b-14207bee105b",
   "metadata": {},
   "source": [
    "I also grabbed the historical data on `investing.com`, for it has more history for my analysis."
   ]
  },
  {
   "cell_type": "code",
   "execution_count": 7,
   "id": "df3943ee-1d21-42ff-8b34-defa962f5d09",
   "metadata": {},
   "outputs": [],
   "source": [
    "sp500.to_csv('data/sp500.csv')"
   ]
  },
  {
   "cell_type": "code",
   "execution_count": null,
   "id": "b287ec0a-54be-4a04-876a-c617a4c13a50",
   "metadata": {},
   "outputs": [],
   "source": []
  }
 ],
 "metadata": {
  "kernelspec": {
   "display_name": "Python 3 (ipykernel)",
   "language": "python",
   "name": "python3"
  },
  "language_info": {
   "codemirror_mode": {
    "name": "ipython",
    "version": 3
   },
   "file_extension": ".py",
   "mimetype": "text/x-python",
   "name": "python",
   "nbconvert_exporter": "python",
   "pygments_lexer": "ipython3",
   "version": "3.9.13"
  }
 },
 "nbformat": 4,
 "nbformat_minor": 5
}
